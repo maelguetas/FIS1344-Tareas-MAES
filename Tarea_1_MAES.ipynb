{
 "cells": [
  {
   "cell_type": "markdown",
   "id": "c0a6d2c8",
   "metadata": {},
   "source": [
    "# Tarea #1.9\n",
    "##  FIS1344 - Métodos númericos y probabilidades\n",
    "## Marcos Ausgusto Elgueta Salas"
   ]
  },
  {
   "cell_type": "markdown",
   "id": "cb4d1bec",
   "metadata": {},
   "source": [
    "Escriba un código que haga la siguiente sumatoria:\n",
    "\n",
    "$$\n",
    "\\sum_{n=0}^{100} \\sum_{m=0}^{n} \\left(0.3^n\\right)^m\n",
    "$$"
   ]
  },
  {
   "cell_type": "code",
   "execution_count": 30,
   "id": "3b3bba6a",
   "metadata": {},
   "outputs": [
    {
     "name": "stdout",
     "output_type": "stream",
     "text": [
      " Ingrese n = 1\n",
      "Resultado final: 1.0410625918786623e-50\n"
     ]
    }
   ],
   "source": [
    "# Nro de términos  a sumar\n",
    "n = int(input(\" Ingrese n = \")) #Este número lo ingresamos \n",
    "m = 100 #La sumatoria nos indica que su límite superior es m=100 \n",
    "# Acumulador, va teniendo cuenta de la suma\n",
    "s = 0   # Esto se llama inicializar, si lo ignoramos obtengo un error\n",
    "\n",
    "# Hacemos la suma\n",
    "for i in range(0,n+1): #Esta seria la suma desde  m=0 hasta n=input\n",
    "    for j in range(0,m+1): #Esta seria la suma desde n=0 hasta m=100\n",
    "        s = s + (0.3**n)**m  # Actualizamos el valor de s. Aquí se realiza la suma iterativa.\n",
    "\n",
    "# Imprimimos el resultado\n",
    "print(\"Resultado final:\", s)"
   ]
  },
  {
   "cell_type": "markdown",
   "id": "93db5a78",
   "metadata": {},
   "source": [
    "# Calificación: 4.0"
   ]
  },
  {
   "cell_type": "markdown",
   "id": "1f3e7423",
   "metadata": {},
   "source": [
    "El código está bien comentado, pero lamentablemente no logra hacer lo que se pide.\n",
    "\n",
    "Estás en realidad calculando la siguiente sumatoria:\n",
    "\n",
    "$$\n",
    "\\sum_{i = 0}^n \\sum_{j = 0}^{100} (0.3^n)^{100}\n",
    "$$\n",
    "\n",
    "Abajo pongo el código corregido para que veas cómo se hacía."
   ]
  },
  {
   "cell_type": "code",
   "execution_count": 2,
   "id": "7b793cce",
   "metadata": {},
   "outputs": [
    {
     "name": "stdout",
     "output_type": "stream",
     "text": [
      "Resultado final: 101.4374927610005\n"
     ]
    }
   ],
   "source": [
    "# Nro de términos  a sumar\n",
    "#n = int(input(\" Ingrese n = \")) #Este número lo ingresamos \n",
    "m = 100 #La sumatoria nos indica que su límite superior es m=100 \n",
    "# Acumulador, va teniendo cuenta de la suma\n",
    "s = 0   # Esto se llama inicializar, si lo ignoramos obtengo un error\n",
    "\n",
    "# Hacemos la suma\n",
    "for i in range(0,m+1): #Esta seria la suma desde  m=0 hasta n=input\n",
    "    for j in range(0, i+1): #Esta seria la suma desde n=0 hasta m=100\n",
    "        s = s + (0.3**i)**j  # Actualizamos el valor de s. Aquí se realiza la suma iterativa.\n",
    "\n",
    "# Imprimimos el resultado\n",
    "print(\"Resultado final:\", s)"
   ]
  }
 ],
 "metadata": {
  "kernelspec": {
   "display_name": "Python 3",
   "language": "python",
   "name": "python3"
  },
  "language_info": {
   "codemirror_mode": {
    "name": "ipython",
    "version": 3
   },
   "file_extension": ".py",
   "mimetype": "text/x-python",
   "name": "python",
   "nbconvert_exporter": "python",
   "pygments_lexer": "ipython3",
   "version": "3.8.5"
  }
 },
 "nbformat": 4,
 "nbformat_minor": 5
}

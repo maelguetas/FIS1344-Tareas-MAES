{
 "cells": [
  {
   "cell_type": "markdown",
   "id": "clean-grade",
   "metadata": {},
   "source": [
    "## Tarea #10.9\n",
    "## FIS1344 - Métodos númericos y probabilidades\n",
    "## Marcos Ausgusto Elgueta Salas"
   ]
  },
  {
   "cell_type": "markdown",
   "id": "satisfied-space",
   "metadata": {},
   "source": [
    "Ejercicio 5.3.12 libro de Burden\n",
    "\n",
    "Un proyectil con masa $m = 0.11$ kg se dispara verticalmente hacia arriba con una velocidad inicial $v(0) = 8$ m/s y sufre una desaceleración debida a la fuerza de la gravedad $F = -mg$ y a la resistencia del aire $F = -kv|v|$, donde $g = 9.8$ m/s^2 y $k = 0.002$ kg/m.\n",
    "\n",
    "* Encuentre la velocidad a $t = 0.1, 0.2, ..., 1.0$ segundos.\n",
    "* Encuentre a la primera cifra decimal  el tiempo al cual el proyectil alcanza su máxima altura y vuelve a empezar a caer."
   ]
  },
  {
   "cell_type": "code",
   "execution_count": 1,
   "id": "split-mechanism",
   "metadata": {},
   "outputs": [],
   "source": [
    "%matplotlib inline\n",
    "import numpy as np\n",
    "import matplotlib.pyplot as plt"
   ]
  },
  {
   "cell_type": "markdown",
   "id": "facial-investigation",
   "metadata": {},
   "source": [
    "La situación corresponde a la ecucación diferencial:\n",
    "$$\n",
    "mv'=-mg-kv|v|, v(0)=0,\n",
    "$$\n",
    "\n",
    "$$\n",
    "x \\leq v  \\leq 1\n",
    "$$\n",
    "\n",
    "Podemos hacer h=0.1 y usar el metodo de taylor a segundo orden para obtener la velocidad para los delta tiempo.\n",
    "$$\n",
    "0.11v'=-1.078-0.002v|v| \\\\\n",
    "$$\n",
    "$$\n",
    "v'=-9.8-0.0181818v|v|\n",
    "$$\n",
    "Luego hacemos f(t,y)=-9.8-0.0181818y|y| y derivamos:\n",
    "\n",
    "$$\n",
    "f'(t,y)=-2(0.0181818)|y|y'\n",
    "$$\n",
    "\n",
    "$$\n",
    "=0.3356364+0.00066115y^{3}\n",
    "$$\n",
    "\n",
    "Entonces tenemos:\n",
    "\n",
    "$$\n",
    "T^{(2)}(t_0,w_o)= f(t_0,w_o)+h/2(f'(t_0,w_0))\n",
    "$$\n",
    "\n",
    "$$\n",
    "w_{(i+1)}=w_i+hT^{(2)}(t_i,w_i)\n",
    "$$\n",
    "\n",
    "$$\n",
    "t_0=0, w_0=8, h=0.1\n",
    "$$"
   ]
  },
  {
   "cell_type": "code",
   "execution_count": 112,
   "id": "marine-footwear",
   "metadata": {},
   "outputs": [],
   "source": [
    "def taylor2(f, df, T, w_i, a, b, yo, N):\n",
    "    \n",
    "    h = (b-a)/N\n",
    "    t = a\n",
    "    w = yo\n",
    "    ts = np.zeros(N+1)\n",
    "    sol = np.zeros(N+1)\n",
    "    for i in range(N):\n",
    "        ts[i] = t\n",
    "        sol[i] = w\n",
    "        w = w + h*f(t, w) + h*h*df(t, w)/2\n",
    "        t = t + h\n",
    "        \n",
    "    ts[N] = t\n",
    "    sol[N] = w\n",
    "    return ts, sol"
   ]
  },
  {
   "cell_type": "code",
   "execution_count": 115,
   "id": "warming-chaos",
   "metadata": {},
   "outputs": [
    {
     "data": {
      "text/plain": [
       "(array([0. , 0.1, 0.2, 0.3, 0.4, 0.5, 0.6, 0.7, 0.8, 0.9, 1. ]),\n",
       " array([ 8.        ,  6.90711086,  5.84323996,  4.80360237,  3.78379683,\n",
       "         2.77972664,  1.7875306 ,  0.80352174, -0.17586863, -1.15414306,\n",
       "        -2.13478823]))"
      ]
     },
     "execution_count": 115,
     "metadata": {},
     "output_type": "execute_result"
    }
   ],
   "source": [
    "def f(t, y):\n",
    "    return -9.8-0.0181818*y**2\n",
    "\n",
    "def df(t, y):\n",
    "    return 0.356364+0.000661156*y**3\n",
    "\n",
    "def T(t, y):\n",
    "    return f(t, y) + (h/2)*df(t, y)\n",
    "\n",
    "def w_i(t, y):\n",
    "    return w + h*T(t, y)\n",
    "\n",
    "\n",
    "taylor2(f, df, T, w_i, 0, 1, 8, 10)\n"
   ]
  },
  {
   "cell_type": "code",
   "execution_count": 132,
   "id": "proved-insider",
   "metadata": {},
   "outputs": [
    {
     "data": {
      "text/plain": [
       "<matplotlib.legend.Legend at 0x7f4021ff3f70>"
      ]
     },
     "execution_count": 132,
     "metadata": {},
     "output_type": "execute_result"
    },
    {
     "data": {
      "image/png": "[encoded data removed]",
      "text/plain": [
       "<Figure size 432x288 with 1 Axes>"
      ]
     },
     "metadata": {
      "needs_background": "light"
     },
     "output_type": "display_data"
    }
   ],
   "source": [
    "ts = np.linspace(0, 1, 10)\n",
    "plt.plot(*taylor2(f, df, T, w_i, 0, 1, 8, 10), label='Aproximación de Taylor orden 2')\n",
    "plt.legend()"
   ]
  },
  {
   "cell_type": "markdown",
   "id": "emotional-myanmar",
   "metadata": {},
   "source": [
    "Podemos ver que entre [0.80352174, -0.17586863] cambia de dirección.\n",
    "Podemos hacer una interpolación:"
   ]
  },
  {
   "cell_type": "code",
   "execution_count": 144,
   "id": "satisfactory-empire",
   "metadata": {},
   "outputs": [],
   "source": [
    "def lagrange(x, puntos):\n",
    "    '''\n",
    "    Interpola una función que pasa por n puntos como un polinomio\n",
    "    de Legendre y lo evalúa en el punto x. Los puntos deben ser\n",
    "    dados como una lista de tuplas (xi, f(xi)).\n",
    "    '''\n",
    "    \n",
    "    Lis = np.ones(len(puntos))\n",
    "    fs = np.ones(len(puntos))\n",
    "    for i in range(len(puntos)):\n",
    "        fs[i] = puntos[i][1]\n",
    "        for j in range(len(puntos)):\n",
    "            if j != i:\n",
    "                Lis[i] *= (x - puntos[j][0])/(puntos[i][0] - puntos[j][0])\n",
    "    \n",
    "    return sum(fs*Lis)"
   ]
  },
  {
   "cell_type": "code",
   "execution_count": 150,
   "id": "welcome-queue",
   "metadata": {},
   "outputs": [
    {
     "data": {
      "text/plain": [
       "(array([0. , 0.1, 0.2, 0.3, 0.4, 0.5, 0.6, 0.7, 0.8, 0.9, 1. ]),\n",
       " array([ 8.        ,  6.90711086,  5.84323996,  4.80360237,  3.78379683,\n",
       "         2.77972664,  1.7875306 ,  0.80352174, -0.17586863, -1.15414306,\n",
       "        -2.13478823]))"
      ]
     },
     "execution_count": 150,
     "metadata": {},
     "output_type": "execute_result"
    }
   ],
   "source": [
    "puntos = np.array([0. , 0.1, 0.2, 0.3, 0.4, 0.5, 0.6, 0.7, 0.8, 0.9, 1.]),np.array([ 8.,  6.90711086,  5.84323996,  4.80360237,  3.78379683,\n",
    "         2.77972664,  1.7875306 ,  0.80352174, -0.17586863, -1.15414306, -2.13478823])\n"
   ]
  },
  {
   "cell_type": "code",
   "execution_count": 153,
   "id": "indonesian-prediction",
   "metadata": {},
   "outputs": [
    {
     "data": {
      "text/plain": [
       "0.780711086"
      ]
     },
     "execution_count": 153,
     "metadata": {},
     "output_type": "execute_result"
    }
   ],
   "source": [
    "lagrange(0.8, puntos)"
   ]
  },
  {
   "cell_type": "markdown",
   "id": "turned-thanks",
   "metadata": {},
   "source": [
    "Por lo tanto el cambio de dirección es aproximadamente en t~0.78(s)"
   ]
  }
 ],
 "metadata": {
  "kernelspec": {
   "display_name": "Python 3",
   "language": "python",
   "name": "python3"
  },
  "language_info": {
   "codemirror_mode": {
    "name": "ipython",
    "version": 3
   },
   "file_extension": ".py",
   "mimetype": "text/x-python",
   "name": "python",
   "nbconvert_exporter": "python",
   "pygments_lexer": "ipython3",
   "version": "3.9.2"
  }
 },
 "nbformat": 4,
 "nbformat_minor": 5
}

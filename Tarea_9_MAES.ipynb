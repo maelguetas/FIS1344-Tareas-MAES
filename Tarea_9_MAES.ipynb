{
 "cells": [
  {
   "cell_type": "markdown",
   "id": "conditional-devices",
   "metadata": {},
   "source": [
    "## Tarea #9.2\n",
    "## FIS1344 - Métodos númericos y probabilidades\n",
    "## Marcos Ausgusto Elgueta Salas"
   ]
  },
  {
   "cell_type": "markdown",
   "id": "conditional-vault",
   "metadata": {},
   "source": [
    "Use el método compuesto de Simpson y el método compuesto del trapecio para encontrar la siguiente integral\n",
    "\n",
    "$$\n",
    "\\int_0^4 \\frac{dx}{\\sqrt{x^2 + 16}}\n",
    "$$\n",
    "\n",
    "Compare con el resultado exacto para obtener el error cometido. Grafique el error en función de $h$ para ambos métodos y compare con las fórmulas de error."
   ]
  },
  {
   "cell_type": "code",
   "execution_count": 1,
   "id": "leading-blogger",
   "metadata": {},
   "outputs": [],
   "source": [
    "import numpy as np\n",
    "import matplotlib.pyplot as plt"
   ]
  },
  {
   "cell_type": "markdown",
   "id": "necessary-paper",
   "metadata": {},
   "source": [
    "**Fórmula compuesta del trapecio:**\n",
    "$$\n",
    "\\int_a^b dx\\,f(x) = \\frac{h}{2}\\left[f(a) + 2\\sum_{i=1}^{n-1} f(x_i) + f(b)\\right]- \\frac{h^2 (b-a)}{12}f''(\\mu)\n",
    "$$\n",
    "\n",
    "Por lo que para mi integral:\n",
    "$$\n",
    "a=0, b=4, f(x)=1/((x^2)+16)^{0.5}, \n",
    "$$\n",
    "con\n",
    "$$\n",
    "n= 10, h=(b-a)/n=(4/10)=2/5 \n",
    "$$"
   ]
  },
  {
   "cell_type": "code",
   "execution_count": 22,
   "id": "closed-satin",
   "metadata": {},
   "outputs": [
    {
     "data": {
      "text/plain": [
       "<matplotlib.collections.PathCollection at 0x7f1250539d00>"
      ]
     },
     "execution_count": 22,
     "metadata": {},
     "output_type": "execute_result"
    },
    {
     "data": {
      "image/png": "[encoded data removed]",
      "text/plain": [
       "<Figure size 432x288 with 1 Axes>"
      ]
     },
     "metadata": {
      "needs_background": "light"
     },
     "output_type": "display_data"
    }
   ],
   "source": [
    "x = np.linspace(0,4,100)\n",
    "plt.fill_between(x, (1/((((x)**2)+16)**0.5)), alpha = 0.3)\n",
    "\n",
    "h = 2/5\n",
    "def poly(x):\n",
    "    ind = int(x/h)\n",
    "    return (1/((((ind)**2)+16)**0.5))\n",
    "plt.fill_between(x, [poly(xi) for xi in x], alpha = 0.2)\n",
    "\n",
    "xp = np.arange(10)*h\n",
    "plt.scatter(xp, (1/((((xp)**2)+16)**0.5)))"
   ]
  },
  {
   "cell_type": "code",
   "execution_count": 59,
   "id": "tough-collaboration",
   "metadata": {},
   "outputs": [],
   "source": [
    "def trapecio(f, a, b, n):\n",
    "    h = (b - a)/n\n",
    "    fx = f(np.linspace(a+h, b-h, n-1, endpoint=True))\n",
    "    return (h/2)*(f(a) + 2*sum(fx) + f(b))\n",
    "def f(x):\n",
    "    return (1/((((x)**2)+16)**0.5))"
   ]
  },
  {
   "cell_type": "code",
   "execution_count": 63,
   "id": "executive-soccer",
   "metadata": {
    "scrolled": true
   },
   "outputs": [
    {
     "data": {
      "text/plain": [
       "0.8810789225522291"
      ]
     },
     "execution_count": 63,
     "metadata": {},
     "output_type": "execute_result"
    }
   ],
   "source": [
    "trapecio(f, 0, 4, 10)"
   ]
  },
  {
   "cell_type": "markdown",
   "id": "palestinian-consistency",
   "metadata": {},
   "source": [
    "El error:"
   ]
  },
  {
   "cell_type": "code",
   "execution_count": 82,
   "id": "designed-entertainment",
   "metadata": {},
   "outputs": [
    {
     "name": "stdout",
     "output_type": "stream",
     "text": [
      "[ 8.33333333e-04  8.32950801e-04  8.31804178e-04  8.29896385e-04\n",
      "  8.27232274e-04  8.23818603e-04  8.19664003e-04  8.14778936e-04\n",
      "  8.09175643e-04  8.02868084e-04  7.95871872e-04  7.88204196e-04\n",
      "  7.79883740e-04  7.70930596e-04  7.61366170e-04  7.51213085e-04\n",
      "  7.40495077e-04  7.29236891e-04  7.17464175e-04  7.05203367e-04\n",
      "  6.92481588e-04  6.79326526e-04  6.65766331e-04  6.51829501e-04\n",
      "  6.37544778e-04  6.22941039e-04  6.08047193e-04  5.92892086e-04\n",
      "  5.77504400e-04  5.61912564e-04  5.46144668e-04  5.30228380e-04\n",
      "  5.14190868e-04  4.98058731e-04  4.81857934e-04  4.65613743e-04\n",
      "  4.49350675e-04  4.33092448e-04  4.16861940e-04  4.00681147e-04\n",
      "  3.84571155e-04  3.68552114e-04  3.52643215e-04  3.36862676e-04\n",
      "  3.21227728e-04  3.05754613e-04  2.90458578e-04  2.75353879e-04\n",
      "  2.60453787e-04  2.45770596e-04  2.31315640e-04  2.17099303e-04\n",
      "  2.03131044e-04  1.89419413e-04  1.75972076e-04  1.62795844e-04\n",
      "  1.49896693e-04  1.37279798e-04  1.24949562e-04  1.12909645e-04\n",
      "  1.01162993e-04  8.97118783e-05  7.85579216e-05  6.77021315e-05\n",
      "  5.71449343e-05  4.68862070e-05  3.69253089e-05  2.72611141e-05\n",
      "  1.78920422e-05  8.81608917e-06  3.08572446e-08 -8.46641572e-06\n",
      " -1.66788279e-05 -2.46097861e-05 -3.22629790e-05 -3.96423513e-05\n",
      " -4.67520796e-05 -5.35965485e-05 -6.01803276e-05 -6.65081506e-05\n",
      " -7.25848943e-05 -7.84155590e-05 -8.40052504e-05 -8.93591619e-05\n",
      " -9.44825582e-05 -9.93807595e-05 -1.04059127e-04 -1.08523051e-04\n",
      " -1.12777934e-04 -1.16829184e-04 -1.20682199e-04 -1.24342362e-04\n",
      " -1.27815024e-04 -1.31105503e-04 -1.34219074e-04 -1.37160957e-04\n",
      " -1.39936317e-04 -1.42550254e-04 -1.45007800e-04 -1.47313913e-04]\n"
     ]
    },
    {
     "data": {
      "text/plain": [
       "<matplotlib.collections.PathCollection at 0x7f12509b5460>"
      ]
     },
     "execution_count": 82,
     "metadata": {},
     "output_type": "execute_result"
    },
    {
     "data": {
      "image/png": "[encoded data removed]",
      "text/plain": [
       "<Figure size 432x288 with 1 Axes>"
      ]
     },
     "metadata": {
      "needs_background": "light"
     },
     "output_type": "display_data"
    }
   ],
   "source": [
    "e = (-(h**2)/3)*(3*x**2/((x**2 + 16)**(5/2))-(1/((x**2 + 16)**(3/2))))\n",
    "print(e)\n",
    "h = np.arange(100)*h\n",
    "plt.scatter(h**2,e)"
   ]
  },
  {
   "cell_type": "code",
   "execution_count": null,
   "id": "according-evidence",
   "metadata": {},
   "outputs": [],
   "source": []
  },
  {
   "cell_type": "markdown",
   "id": "immediate-denver",
   "metadata": {},
   "source": [
    "**Fórmula compuesta de Simpson**: Se deduce de manera análoga\n",
    "\n",
    "\n",
    "$$\n",
    "\\int_a^b dx\\,f(x) = \\frac{h}{3}\\left[f(a) + 2\\sum_{i=1}^{n/2-1} f(x_{2i}) + 4\\sum_{i=1}^{n/2} f(x_{2i-1}) + f(b)\\right]- \\frac{h^4 (b-a)}{180}f''(\\mu)\n",
    "$$"
   ]
  },
  {
   "cell_type": "code",
   "execution_count": 259,
   "id": "presidential-interaction",
   "metadata": {},
   "outputs": [
    {
     "data": {
      "text/plain": [
       "<matplotlib.collections.PathCollection at 0x7f124fe132b0>"
      ]
     },
     "execution_count": 259,
     "metadata": {},
     "output_type": "execute_result"
    },
    {
     "data": {
      "image/png": "[encoded data removed]",
      "text/plain": [
       "<Figure size 432x288 with 1 Axes>"
      ]
     },
     "metadata": {
      "needs_background": "light"
     },
     "output_type": "display_data"
    }
   ],
   "source": [
    "x = np.linspace(0,4,10)\n",
    "plt.fill_between(x, (1/((((x)**2)+16)**0.5)), alpha = 0.3)\n",
    "\n",
    "h = 2/5\n",
    "def poly(x):\n",
    "    ind = int(x/(2*h))\n",
    "    Lo = (x - h*(2*ind+1))*(x - h*(2*ind+2))/(2*h*h)\n",
    "    L1 = -(x - h*(2*ind))*(x - h*(2*ind+2))/(h*h)\n",
    "    L2 = (x - h*(2*ind))*(x - h*(2*ind+1))/(2*h*h)\n",
    "    return (1/(((2*h*ind)**2)+16)**0.5)*Lo + (1/((((h*(2*ind+1)))**2)+16)**0.5)*L1 + (1/((((h*(h*(2*ind+2)))**2)+16)**0.5))*L2\n",
    "plt.fill_between(x, [poly(xi) for xi in x], alpha = 0.3)\n",
    "\n",
    "xp = np.arange(10)*h\n",
    "plt.scatter(xp, (1/((((xp)**2)+16)**0.5)))"
   ]
  },
  {
   "cell_type": "code",
   "execution_count": 347,
   "id": "editorial-yesterday",
   "metadata": {},
   "outputs": [],
   "source": [
    "def simpson(f,a,b,n):\n",
    "        h = (b - a)/n\n",
    "        fx = f(np.linspace(a+h, b-h, n-1, endpoint=True))\n",
    "        return (h/3)*(f(a) + 2*sum(2*fx+1) + 4*sum(2*fx-1) + f(b))\n",
    "def f(x):\n",
    "    return (1/((((x)**2)+16)**0.5))"
   ]
  },
  {
   "cell_type": "code",
   "execution_count": 348,
   "id": "british-findings",
   "metadata": {},
   "outputs": [
    {
     "data": {
      "text/plain": [
       "0.8570307832639769"
      ]
     },
     "execution_count": 348,
     "metadata": {},
     "output_type": "execute_result"
    }
   ],
   "source": [
    "simpson(f, 0, 4, 100)"
   ]
  },
  {
   "cell_type": "code",
   "execution_count": 346,
   "id": "automotive-revolution",
   "metadata": {},
   "outputs": [
    {
     "ename": "ValueError",
     "evalue": "operands could not be broadcast together with shapes (100,) (10,) ",
     "output_type": "error",
     "traceback": [
      "\u001b[0;31m---------------------------------------------------------------------------\u001b[0m",
      "\u001b[0;31mValueError\u001b[0m                                Traceback (most recent call last)",
      "\u001b[0;32m<ipython-input-346-137e79c2605a>\u001b[0m in \u001b[0;36m<module>\u001b[0;34m\u001b[0m\n\u001b[0;32m----> 1\u001b[0;31m \u001b[0me\u001b[0m \u001b[0;34m=\u001b[0m \u001b[0;34m(\u001b[0m\u001b[0;34m-\u001b[0m\u001b[0;34m(\u001b[0m\u001b[0mh\u001b[0m\u001b[0;34m**\u001b[0m\u001b[0;36m4\u001b[0m\u001b[0;34m)\u001b[0m\u001b[0;34m/\u001b[0m\u001b[0;36m45\u001b[0m\u001b[0;34m)\u001b[0m\u001b[0;34m*\u001b[0m\u001b[0;34m(\u001b[0m\u001b[0;36m3\u001b[0m\u001b[0;34m*\u001b[0m\u001b[0mx\u001b[0m\u001b[0;34m**\u001b[0m\u001b[0;36m2\u001b[0m\u001b[0;34m/\u001b[0m\u001b[0;34m(\u001b[0m\u001b[0;34m(\u001b[0m\u001b[0mx\u001b[0m\u001b[0;34m**\u001b[0m\u001b[0;36m2\u001b[0m \u001b[0;34m+\u001b[0m \u001b[0;36m16\u001b[0m\u001b[0;34m)\u001b[0m\u001b[0;34m**\u001b[0m\u001b[0;34m(\u001b[0m\u001b[0;36m5\u001b[0m\u001b[0;34m/\u001b[0m\u001b[0;36m2\u001b[0m\u001b[0;34m)\u001b[0m\u001b[0;34m)\u001b[0m\u001b[0;34m-\u001b[0m\u001b[0;34m(\u001b[0m\u001b[0;36m1\u001b[0m\u001b[0;34m)\u001b[0m\u001b[0;34m/\u001b[0m\u001b[0;34m(\u001b[0m\u001b[0;34m(\u001b[0m\u001b[0mx\u001b[0m\u001b[0;34m**\u001b[0m\u001b[0;36m2\u001b[0m \u001b[0;34m+\u001b[0m \u001b[0;36m16\u001b[0m\u001b[0;34m)\u001b[0m\u001b[0;34m**\u001b[0m\u001b[0;34m(\u001b[0m\u001b[0;36m3\u001b[0m\u001b[0;34m/\u001b[0m\u001b[0;36m2\u001b[0m\u001b[0;34m)\u001b[0m\u001b[0;34m)\u001b[0m\u001b[0;34m)\u001b[0m\u001b[0;34m\u001b[0m\u001b[0;34m\u001b[0m\u001b[0m\n\u001b[0m\u001b[1;32m      2\u001b[0m \u001b[0mprint\u001b[0m\u001b[0;34m(\u001b[0m\u001b[0me\u001b[0m\u001b[0;34m)\u001b[0m\u001b[0;34m\u001b[0m\u001b[0;34m\u001b[0m\u001b[0m\n\u001b[1;32m      3\u001b[0m \u001b[0mh\u001b[0m \u001b[0;34m=\u001b[0m \u001b[0mnp\u001b[0m\u001b[0;34m.\u001b[0m\u001b[0marange\u001b[0m\u001b[0;34m(\u001b[0m\u001b[0;36m100\u001b[0m\u001b[0;34m,\u001b[0m\u001b[0me\u001b[0m\u001b[0;34m)\u001b[0m\u001b[0;34m*\u001b[0m\u001b[0mh\u001b[0m\u001b[0;34m\u001b[0m\u001b[0;34m\u001b[0m\u001b[0m\n\u001b[1;32m      4\u001b[0m \u001b[0mplt\u001b[0m\u001b[0;34m.\u001b[0m\u001b[0mscatter\u001b[0m\u001b[0;34m(\u001b[0m\u001b[0mh\u001b[0m\u001b[0;34m**\u001b[0m\u001b[0;36m4\u001b[0m\u001b[0;34m,\u001b[0m \u001b[0me\u001b[0m\u001b[0;34m)\u001b[0m\u001b[0;34m\u001b[0m\u001b[0;34m\u001b[0m\u001b[0m\n",
      "\u001b[0;31mValueError\u001b[0m: operands could not be broadcast together with shapes (100,) (10,) "
     ]
    }
   ],
   "source": [
    "e = (-(h**4)/45)*(3*x**2/((x**2 + 16)**(5/2))-(1)/((x**2 + 16)**(3/2)))\n",
    "print(e)\n",
    "h = np.arange(100)*h\n",
    "plt.scatter(h**4, e)"
   ]
  },
  {
   "cell_type": "markdown",
   "id": "708690a1",
   "metadata": {},
   "source": [
    "# Calificación: 5.5"
   ]
  },
  {
   "cell_type": "markdown",
   "id": "66555bd2",
   "metadata": {},
   "source": [
    "Se calculó la integral con el método del trapecio y de Simpson. Sin embargo no se comparó con la solución exacta para obtener el error, como se pedía."
   ]
  }
 ],
 "metadata": {
  "kernelspec": {
   "display_name": "Python 3",
   "language": "python",
   "name": "python3"
  },
  "language_info": {
   "codemirror_mode": {
    "name": "ipython",
    "version": 3
   },
   "file_extension": ".py",
   "mimetype": "text/x-python",
   "name": "python",
   "nbconvert_exporter": "python",
   "pygments_lexer": "ipython3",
   "version": "3.8.5"
  }
 },
 "nbformat": 4,
 "nbformat_minor": 5
}

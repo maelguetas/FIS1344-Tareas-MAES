{
 "cells": [
  {
   "cell_type": "markdown",
   "id": "a0fb42cf-9888-498f-a875-c73a4e6bcae2",
   "metadata": {},
   "source": [
    "## Tarea #8.9\n",
    "## FIS1344 - Métodos númericos y probabilidades\n",
    "## Marcos Ausgusto Elgueta Salas"
   ]
  },
  {
   "cell_type": "markdown",
   "id": "b194581b-4916-42c6-851d-e649a8a44fd2",
   "metadata": {},
   "source": [
    "En clase introducimos una fórmula para la segunda derivada usando tres evaluaciones de la función. Use la expansión en Taylor de $f(x_o + h)$, $f(x_o - h)$, $f(x_o + 2h)$ y $f(x_o - 2h)$ para encontrar una fórmula para la segunda derivada con cinco evaluaciones y estime el error cometido (la potencia de $h$)."
   ]
  },
  {
   "cell_type": "code",
   "execution_count": 11,
   "id": "811d5e1f-e693-4f1c-a4f9-299429633f3c",
   "metadata": {},
   "outputs": [],
   "source": [
    "import numpy as np\n",
    "import matplotlib.pyplot as plt"
   ]
  },
  {
   "cell_type": "markdown",
   "id": "fluid-forum",
   "metadata": {},
   "source": [
    "\n",
    "$$\n",
    "f(x_o + h) = f(x_o) + f'(x_o)h + \\frac{1}{2}f''(x_o)h^2 + \\frac{1}{6}f^{(3)}(x_o)h^3 + \\frac{1}{24}f^{(4)}(\\xi)h^4\n",
    "$$\n",
    "\n",
    "de donde vemos que\n",
    "\n",
    "$$\n",
    "f(x_o + h) + f(x_o - h) = 2f(x_o) + f''(x_o)h^2 + \\frac{1}{12}f^{(4)}(\\xi)h^4\\,.\n",
    "$$\n",
    "\n",
    "y entonces\n",
    "\n",
    "$$\n",
    "f''(x_o) = \\frac{1}{h^2}\\left(f(x_o + h) - 2f(x_o) + f(x_o - h)\\right) - \\frac{1}{12}f^{(4)}(\\xi)h^2\n",
    "$$\n",
    "\n",
    "Por otro lado para la de cinco evaluaciones:\n",
    "\n",
    "$$\n",
    "f''(x_o)\\approx \\frac{-f(x+2 h)+16 f(x+h)-30 f(x) + 16 f(x-h) - f(x-2h)}{12 h^2}\n",
    "$$\n",
    "\n",
    "Para estimar el error:\n",
    "\n",
    "\n",
    "$$\n",
    "\\frac{-f(x+2 h)+8 f(x+h)-8 f(x-h)+f(x-2h)}{12 h}\n",
    "$$"
   ]
  },
  {
   "cell_type": "code",
   "execution_count": 12,
   "id": "thermal-preview",
   "metadata": {},
   "outputs": [],
   "source": [
    "def segunda_deriv(f, x, h):\n",
    "    return (-f(x + 2*h) + 16*f(x+h) + 30*f(x)+16*f(x-h)-f*(x-2*h))/12*(h*h)"
   ]
  },
  {
   "cell_type": "code",
   "execution_count": 13,
   "id": "undefined-banana",
   "metadata": {},
   "outputs": [],
   "source": [
    "def error_deriv(f,x,h):\n",
    "    return (-f*(x+2*h)+8*f*(x+h)-8*(x-h)+f*(x-2*h))/12*h"
   ]
  },
  {
   "cell_type": "code",
   "execution_count": 22,
   "id": "irish-luther",
   "metadata": {},
   "outputs": [],
   "source": [
    "x = np.arange(0, 4, 0.1)\n",
    "datos_r = np.arcsinh(x) + np.random.normal(0, 0.05, 40)\n",
    "datos_e = np.arcsinh(x)"
   ]
  },
  {
   "cell_type": "code",
   "execution_count": 23,
   "id": "geological-coordinate",
   "metadata": {},
   "outputs": [
    {
     "data": {
      "text/plain": [
       "<matplotlib.collections.PathCollection at 0x7f9adcb1ae80>"
      ]
     },
     "execution_count": 23,
     "metadata": {},
     "output_type": "execute_result"
    },
    {
     "data": {
      "image/png": "[encoded data removed]",
      "text/plain": [
       "<Figure size 432x288 with 1 Axes>"
      ]
     },
     "metadata": {
      "needs_background": "light"
     },
     "output_type": "display_data"
    }
   ],
   "source": [
    "plt.scatter(x, datos_e)\n",
    "plt.scatter(x, datos_r)"
   ]
  },
  {
   "cell_type": "code",
   "execution_count": null,
   "id": "conventional-liver",
   "metadata": {},
   "outputs": [],
   "source": []
  }
 ],
 "metadata": {
  "kernelspec": {
   "display_name": "Python 3",
   "language": "python",
   "name": "python3"
  },
  "language_info": {
   "codemirror_mode": {
    "name": "ipython",
    "version": 3
   },
   "file_extension": ".py",
   "mimetype": "text/x-python",
   "name": "python",
   "nbconvert_exporter": "python",
   "pygments_lexer": "ipython3",
   "version": "3.9.2"
  }
 },
 "nbformat": 4,
 "nbformat_minor": 5
}

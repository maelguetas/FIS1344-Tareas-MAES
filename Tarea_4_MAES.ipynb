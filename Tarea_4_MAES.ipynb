{
 "cells": [
  {
   "cell_type": "markdown",
   "id": "e173be88",
   "metadata": {},
   "source": [
    "\n",
    "## Tarea #4.4\n",
    "## FIS1344 - Métodos númericos y probabilidades\n",
    "## Marcos Ausgusto Elgueta Salas"
   ]
  },
  {
   "cell_type": "markdown",
   "id": "9855a3a0",
   "metadata": {},
   "source": [
    "Queremos calcular $x^3$. ¿Es más rápido calcular x\\*x\\*x o x\\*\\*3?\n",
    "\n",
    "El problema es que Python calcula ambas operaciones muy rápido y es imposible decidir cuál es mejor.\n",
    "\n",
    "Para hacerlo podemos realizar la operación muchas veces y ver cuánto tarda. \n",
    "\n",
    "Modifique la función medir_tiempo para que admita un argumento adicional que sea el número de veces que se evalúa la función. Úsela para medir cuál es más rápido entre x\\*x\\*x o x\\*\\*3."
   ]
  },
  {
   "cell_type": "code",
   "execution_count": 18,
   "id": "432bacfd",
   "metadata": {},
   "outputs": [],
   "source": [
    "from time import time_ns"
   ]
  },
  {
   "cell_type": "code",
   "execution_count": 19,
   "id": "b87bd872",
   "metadata": {},
   "outputs": [],
   "source": [
    "def medir_tiempo(func, *args):\n",
    "    t1 = time_ns()\n",
    "    func(*args)\n",
    "    tf = time_ns() - t1\n",
    "    return tf"
   ]
  },
  {
   "cell_type": "code",
   "execution_count": 45,
   "id": "93d4c6de",
   "metadata": {},
   "outputs": [],
   "source": [
    "def ec1(x,veces):\n",
    "    resultado = (x*x*x)\n",
    "    for i in range(veces):\n",
    "        resultado = resultado*x\n",
    "    return resultado\n",
    "def ec2(x,veces):\n",
    "    resultado = x**3\n",
    "    for i in range(veces):\n",
    "        resultado = resultado*x\n",
    "    return resultado\n"
   ]
  },
  {
   "cell_type": "code",
   "execution_count": 63,
   "id": "82d8aab7",
   "metadata": {},
   "outputs": [
    {
     "data": {
      "text/plain": [
       "14262"
      ]
     },
     "execution_count": 63,
     "metadata": {},
     "output_type": "execute_result"
    }
   ],
   "source": [
    "medir_tiempo(ec1, 2, 100)\n"
   ]
  },
  {
   "cell_type": "code",
   "execution_count": 62,
   "id": "10d2913b",
   "metadata": {
    "scrolled": true
   },
   "outputs": [
    {
     "data": {
      "text/plain": [
       "16685"
      ]
     },
     "execution_count": 62,
     "metadata": {},
     "output_type": "execute_result"
    }
   ],
   "source": [
    "medir_tiempo(ec2, 2, 100)"
   ]
  },
  {
   "cell_type": "markdown",
   "id": "b7b36a7e",
   "metadata": {},
   "source": [
    "# Calificación: 4.0\n",
    "\n",
    "Se pedía modificar la función medir_tiempo para incluir un número de veces a evaluar la operación. No se hizo. (-0.5)\n",
    "\n",
    "Se está midiendo el tiempo de elevar al cubo y luego multiplicar el resultado varias veces por la cantidad x. Esto es muy diferente a lo que se pide: calcular muchas veces x\\*\\*3 y también x\\*x\\*x para medir cuál tarda menos. (-1.0)\n",
    "\n",
    "No hay comentarios más allá del enunciado del problema, tampoco hay docstrings en las funciones (-1.5)"
   ]
  }
 ],
 "metadata": {
  "kernelspec": {
   "display_name": "Python 3",
   "language": "python",
   "name": "python3"
  },
  "language_info": {
   "codemirror_mode": {
    "name": "ipython",
    "version": 3
   },
   "file_extension": ".py",
   "mimetype": "text/x-python",
   "name": "python",
   "nbconvert_exporter": "python",
   "pygments_lexer": "ipython3",
   "version": "3.8.5"
  }
 },
 "nbformat": 4,
 "nbformat_minor": 5
}

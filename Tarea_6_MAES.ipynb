{
 "cells": [
  {
   "cell_type": "markdown",
   "id": "c176d8f3",
   "metadata": {},
   "source": [
    "\n",
    "## Tarea #6.8\n",
    "## FIS1344 - Métodos númericos y probabilidades\n",
    "## Marcos Ausgusto Elgueta Salas"
   ]
  },
  {
   "cell_type": "markdown",
   "id": "50fa17df",
   "metadata": {},
   "source": [
    "Busque un ejemplo de una función tal que el método de bisección con la condición $|p_n - p_{n-1}|/|p_n| < \\epsilon$ converge siempre a un valor que no es un cero de la función."
   ]
  },
  {
   "cell_type": "markdown",
   "id": "foster-bosnia",
   "metadata": {},
   "source": [
    "Primero buscamos el cero:"
   ]
  },
  {
   "cell_type": "code",
   "execution_count": 1,
   "id": "15aeffde",
   "metadata": {},
   "outputs": [],
   "source": [
    "import numpy as np\n",
    "import matplotlib.pyplot as plt"
   ]
  },
  {
   "cell_type": "markdown",
   "id": "incorporated-opera",
   "metadata": {},
   "source": [
    "Podemos probar con esta función:\n",
    "$f(x)=e^{-x}-x$"
   ]
  },
  {
   "cell_type": "code",
   "execution_count": 2,
   "id": "looking-medicaid",
   "metadata": {},
   "outputs": [],
   "source": [
    "def func(x): \n",
    "    return (np.exp(-x)) - (x)"
   ]
  },
  {
   "cell_type": "code",
   "execution_count": 3,
   "id": "monetary-valve",
   "metadata": {},
   "outputs": [],
   "source": [
    "def biseccion(f, a, b, epsilon, N=1000000): # Se define bisección de una función f, desde a hasta b.\n",
    "    \n",
    "    for i in range(N):\n",
    "        p = a + (b - a)/2\n",
    "        print(p)\n",
    "        if abs(f(p)) < epsilon:\n",
    "            print(\"Cero en\", p, \"encontrado después de\", i, \"iteraciones.\")\n",
    "            return p\n",
    "        elif f(p)*f(a) > 0:\n",
    "            a = p\n",
    "        else:\n",
    "            b = p\n",
    "    print(\"No se encontró el cero después de\", N, \"iteraciones.\")"
   ]
  },
  {
   "cell_type": "code",
   "execution_count": 4,
   "id": "secondary-workshop",
   "metadata": {},
   "outputs": [
    {
     "name": "stdout",
     "output_type": "stream",
     "text": [
      "0.5\n",
      "50.75\n",
      "25.625\n",
      "13.0625\n",
      "6.78125\n",
      "3.640625\n",
      "2.0703125\n",
      "1.28515625\n",
      "0.892578125\n",
      "0.6962890625\n",
      "0.59814453125\n",
      "0.549072265625\n",
      "0.5736083984375\n",
      "0.56134033203125\n",
      "0.567474365234375\n",
      "0.5644073486328125\n",
      "0.5659408569335938\n",
      "0.5667076110839844\n",
      "0.5670909881591797\n",
      "Cero en 0.5670909881591797 encontrado después de 18 iteraciones.\n"
     ]
    },
    {
     "data": {
      "text/plain": [
       "0.5670909881591797"
      ]
     },
     "execution_count": 4,
     "metadata": {},
     "output_type": "execute_result"
    }
   ],
   "source": [
    "biseccion(func, -100, 101, 0.0001)"
   ]
  },
  {
   "cell_type": "code",
   "execution_count": 266,
   "id": "spectacular-financing",
   "metadata": {},
   "outputs": [],
   "source": [
    "def biseccion1(f, a, b, epsilon, N=1000000):\n",
    "\n",
    "    pp = a\n",
    "    for i in range(N):\n",
    "        p = a + (b - a)/2\n",
    "        if abs(p - pp)/abs(p) < epsilon:\n",
    "            return p\n",
    "        elif f(p)*f(a) > 0:\n",
    "            a = p\n",
    "        else:\n",
    "            b = p\n",
    "        pp = p\n",
    "    print(\"No se encontró el cero después de\", N, \"iteraciones.\")"
   ]
  },
  {
   "cell_type": "code",
   "execution_count": 267,
   "id": "fitting-walnut",
   "metadata": {},
   "outputs": [
    {
     "data": {
      "text/plain": [
       "0.5671389102935791"
      ]
     },
     "execution_count": 267,
     "metadata": {},
     "output_type": "execute_result"
    }
   ],
   "source": [
    "biseccion1(func, -100, 101, 0.0001)"
   ]
  },
  {
   "cell_type": "code",
   "execution_count": 268,
   "id": "featured-grammar",
   "metadata": {},
   "outputs": [
    {
     "data": {
      "text/plain": [
       "[<matplotlib.lines.Line2D at 0x7fae4023dcd0>]"
      ]
     },
     "execution_count": 268,
     "metadata": {},
     "output_type": "execute_result"
    },
    {
     "data": {
      "image/png": "[encoded data removed]",
      "text/plain": [
       "<Figure size 432x288 with 1 Axes>"
      ]
     },
     "metadata": {
      "needs_background": "light"
     },
     "output_type": "display_data"
    }
   ],
   "source": [
    "x = np.linspace(-100, 100, 1000)\n",
    "plt.plot(x, func(x))"
   ]
  },
  {
   "cell_type": "markdown",
   "id": "every-disposition",
   "metadata": {},
   "source": [
    "**Ahora para los que convergen a puntos diferentes del cero de la función:**"
   ]
  },
  {
   "cell_type": "code",
   "execution_count": 6,
   "id": "continuing-covering",
   "metadata": {},
   "outputs": [],
   "source": [
    "class MaxIterations(Exception):\n",
    "    pass"
   ]
  },
  {
   "cell_type": "markdown",
   "id": "unable-naples",
   "metadata": {},
   "source": [
    "$g(x)=e^{-x}-x$"
   ]
  },
  {
   "cell_type": "code",
   "execution_count": 7,
   "id": "sealed-mailman",
   "metadata": {},
   "outputs": [],
   "source": [
    "def g(x):\n",
    "    return (np.exp(-x)) - (x)"
   ]
  },
  {
   "cell_type": "code",
   "execution_count": 8,
   "id": "lyric-input",
   "metadata": {},
   "outputs": [],
   "source": [
    "def iter_func(g, po, epsilon, N=1000000):\n",
    "    \n",
    "    for i in range(N):\n",
    "        p = g(po)\n",
    "        if abs(p - po)/abs(po) < epsilon:\n",
    "            return p, i\n",
    "        else:\n",
    "            po = p\n",
    "    \n",
    "    raise MaxIterations(\"No se encontró el punto fijo luego de\", N, \"iteraciones.\")"
   ]
  },
  {
   "cell_type": "code",
   "execution_count": 9,
   "id": "opposed-browser",
   "metadata": {},
   "outputs": [
    {
     "data": {
      "text/plain": [
       "(-0.6321205588285577, 0)"
      ]
     },
     "execution_count": 9,
     "metadata": {},
     "output_type": "execute_result"
    }
   ],
   "source": [
    "iter_func(g, 1, 500)"
   ]
  },
  {
   "cell_type": "code",
   "execution_count": 273,
   "id": "exact-terror",
   "metadata": {},
   "outputs": [
    {
     "data": {
      "text/plain": [
       "(-1.27686983985157, 0)"
      ]
     },
     "execution_count": 273,
     "metadata": {},
     "output_type": "execute_result"
    }
   ],
   "source": [
    "iter_func(g, 1.5, 5)"
   ]
  },
  {
   "cell_type": "code",
   "execution_count": 274,
   "id": "concrete-salmon",
   "metadata": {},
   "outputs": [
    {
     "data": {
      "text/plain": [
       "(-0.6293847477764577, 1)"
      ]
     },
     "execution_count": 274,
     "metadata": {},
     "output_type": "execute_result"
    }
   ],
   "source": [
    "iter_func(g, 0.001, 500)"
   ]
  },
  {
   "cell_type": "code",
   "execution_count": 275,
   "id": "solved-tension",
   "metadata": {},
   "outputs": [
    {
     "data": {
      "text/plain": [
       "(-1.8646647167633872, 0)"
      ]
     },
     "execution_count": 275,
     "metadata": {},
     "output_type": "execute_result"
    }
   ],
   "source": [
    "iter_func(g, 2, 500)"
   ]
  },
  {
   "cell_type": "code",
   "execution_count": 276,
   "id": "subsequent-print",
   "metadata": {},
   "outputs": [
    {
     "data": {
      "text/plain": [
       "(-0.632106880015752, 0)"
      ]
     },
     "execution_count": 276,
     "metadata": {},
     "output_type": "execute_result"
    }
   ],
   "source": [
    "iter_func(g, 0.99999, 1000)"
   ]
  },
  {
   "cell_type": "code",
   "execution_count": 277,
   "id": "shaped-hampton",
   "metadata": {},
   "outputs": [
    {
     "data": {
      "text/plain": [
       "(0.9999800000499999, 0)"
      ]
     },
     "execution_count": 277,
     "metadata": {},
     "output_type": "execute_result"
    }
   ],
   "source": [
    "iter_func(g, 0.00001, 100000)"
   ]
  },
  {
   "cell_type": "code",
   "execution_count": 278,
   "id": "superb-anderson",
   "metadata": {},
   "outputs": [
    {
     "data": {
      "text/plain": [
       "(-0.6318469824217812, 1)"
      ]
     },
     "execution_count": 278,
     "metadata": {},
     "output_type": "execute_result"
    }
   ],
   "source": [
    "iter_func(g, 0.0001, 1000)"
   ]
  },
  {
   "cell_type": "code",
   "execution_count": 279,
   "id": "bigger-salmon",
   "metadata": {},
   "outputs": [
    {
     "data": {
      "text/plain": [
       "(5.9816890703380645, 0)"
      ]
     },
     "execution_count": 279,
     "metadata": {},
     "output_type": "execute_result"
    }
   ],
   "source": [
    "iter_func(g, -1.5, 5)"
   ]
  },
  {
   "cell_type": "code",
   "execution_count": 280,
   "id": "antique-shield",
   "metadata": {},
   "outputs": [
    {
     "data": {
      "text/plain": [
       "(-5.184705528587072e+21, 1)"
      ]
     },
     "execution_count": 280,
     "metadata": {},
     "output_type": "execute_result"
    }
   ],
   "source": [
    "iter_func(g, -50, 5)"
   ]
  },
  {
   "cell_type": "markdown",
   "id": "dominican-protection",
   "metadata": {},
   "source": [
    "Podemos ver distinos puntos de convergencia distintos a los ceros de la función."
   ]
  },
  {
   "cell_type": "markdown",
   "id": "6b1583ca",
   "metadata": {},
   "source": [
    "# Calificación: 3.0"
   ]
  },
  {
   "cell_type": "markdown",
   "id": "ad3f1944",
   "metadata": {},
   "source": [
    "No se hizo lo que se pedía. Se pedía estudiar solo el método de bisección y encontrar algún ejemplo. Aquí se usó el método de punto fijo."
   ]
  }
 ],
 "metadata": {
  "kernelspec": {
   "display_name": "Python 3",
   "language": "python",
   "name": "python3"
  },
  "language_info": {
   "codemirror_mode": {
    "name": "ipython",
    "version": 3
   },
   "file_extension": ".py",
   "mimetype": "text/x-python",
   "name": "python",
   "nbconvert_exporter": "python",
   "pygments_lexer": "ipython3",
   "version": "3.8.5"
  }
 },
 "nbformat": 4,
 "nbformat_minor": 5
}

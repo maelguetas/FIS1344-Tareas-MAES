{
 "cells": [
  {
   "cell_type": "markdown",
   "id": "077aa6e8",
   "metadata": {},
   "source": [
    "## Tarea #2.6\n",
    "## FIS1344 - Métodos númericos y probabilidades\n",
    "## Marcos Ausgusto Elgueta Salas\n",
    "\n",
    "Escriba a cuál número corresponde la siguiente representación de 16 bits\n",
    "\n",
    "1 00110 1110110101\n"
   ]
  },
  {
   "cell_type": "code",
   "execution_count": 4,
   "id": "09ee3298",
   "metadata": {},
   "outputs": [
    {
     "data": {
      "text/plain": [
       "-0.0037631988525390625"
      ]
     },
     "execution_count": 4,
     "metadata": {},
     "output_type": "execute_result"
    }
   ],
   "source": [
    "((-1)**(1))*2**(6-15)*(1+0.9267578125)"
   ]
  },
  {
   "cell_type": "markdown",
   "id": "a8d23d1c",
   "metadata": {},
   "source": [
    "Así sería s=1 \\\n",
    "$f=\\left ( \\frac{1}{2} \\right )^{1}+\\left ( \\frac{1}{2} \\right )^{2}+\\left ( \\frac{1}{2} \\right )^{3}+\n",
    "\\left ( \\frac{1}{2} \\right )^{5}+\\left ( \\frac{1}{2} \\right )^{6}+\\left ( \\frac{1}{2} \\right )^{8}+\n",
    "\\left ( \\frac{1}{2} \\right )^{10}=0,9267578125$\n",
    "\\\n",
    "y\n",
    "$c=2^{2}+2^{1}$ \\\n",
    "Entonces la operación final queda de la forma: \\\n",
    "$(-1)^{1}2^{6-15}(1+0,9267578125)$"
   ]
  },
  {
   "cell_type": "markdown",
   "id": "8f6d3639",
   "metadata": {},
   "source": [
    "# Calificación: 7.0"
   ]
  }
 ],
 "metadata": {
  "kernelspec": {
   "display_name": "Python 3",
   "language": "python",
   "name": "python3"
  },
  "language_info": {
   "codemirror_mode": {
    "name": "ipython",
    "version": 3
   },
   "file_extension": ".py",
   "mimetype": "text/x-python",
   "name": "python",
   "nbconvert_exporter": "python",
   "pygments_lexer": "ipython3",
   "version": "3.8.5"
  }
 },
 "nbformat": 4,
 "nbformat_minor": 5
}

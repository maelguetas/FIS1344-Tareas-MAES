{
 "cells": [
  {
   "cell_type": "markdown",
   "id": "881058d4-1254-4ca3-9363-54b531c95cd2",
   "metadata": {},
   "source": [
    "## Tarea #7.2\n",
    "## FIS1344 - Métodos númericos y probabilidades\n",
    "## Marcos Ausgusto Elgueta Salas"
   ]
  },
  {
   "cell_type": "markdown",
   "id": "448596d2-9eec-43c6-8888-df1c46bb3c59",
   "metadata": {},
   "source": [
    "Queremos encontrar los ceros de la función $f(x) = \\sinh(x) - \\cos(x)$. Para lograrlo, primero use algunas iteraciones del método de bisección y así obtener un punto inicial para el método de Newton."
   ]
  },
  {
   "cell_type": "markdown",
   "id": "389bad24-eb6f-441e-8114-34d8a3976f3c",
   "metadata": {},
   "source": []
  },
  {
   "cell_type": "code",
   "execution_count": 4,
   "id": "parental-alaska",
   "metadata": {},
   "outputs": [],
   "source": [
    "import numpy as np\n",
    "import matplotlib.pyplot as plt"
   ]
  },
  {
   "cell_type": "code",
   "execution_count": 40,
   "id": "occasional-understanding",
   "metadata": {},
   "outputs": [],
   "source": [
    "def func(x): \n",
    "    return (np.sinh(x)) - np.cos(x)"
   ]
  },
  {
   "cell_type": "code",
   "execution_count": 86,
   "id": "otherwise-archives",
   "metadata": {},
   "outputs": [],
   "source": [
    "def df(x):\n",
    "    return (np.sin(x)+np.cosh(x))"
   ]
  },
  {
   "cell_type": "code",
   "execution_count": 87,
   "id": "veterinary-trinidad",
   "metadata": {
    "scrolled": true
   },
   "outputs": [
    {
     "data": {
      "text/plain": [
       "[<matplotlib.lines.Line2D at 0x7ff5f20dcf10>]"
      ]
     },
     "execution_count": 87,
     "metadata": {},
     "output_type": "execute_result"
    },
    {
     "data": {
      "image/png": "[encoded data removed]",
      "text/plain": [
       "<Figure size 432x288 with 1 Axes>"
      ]
     },
     "metadata": {
      "needs_background": "light"
     },
     "output_type": "display_data"
    }
   ],
   "source": [
    "x = np.linspace(-10, 10, 100)\n",
    "plt.plot(x, func(x))"
   ]
  },
  {
   "cell_type": "code",
   "execution_count": 88,
   "id": "amateur-negotiation",
   "metadata": {},
   "outputs": [],
   "source": [
    "def biseccion(f, a, b, epsilon, N=1000000):\n",
    "    \n",
    "    for i in range(N):\n",
    "        p = a + (b - a)/2\n",
    "        print(p)\n",
    "        if abs(f(p)) < epsilon:\n",
    "            print(\"Cero en\", p, \"encontrado después de\", i, \"iteraciones.\")\n",
    "            return p\n",
    "        elif f(p)*f(a) > 0:\n",
    "            a = p\n",
    "        else:\n",
    "            b = p\n",
    "    print(\"No se encontró el cero después de\", N, \"iteraciones.\")"
   ]
  },
  {
   "cell_type": "markdown",
   "id": "refined-universal",
   "metadata": {},
   "source": [
    "Ahora con el método de newton:"
   ]
  },
  {
   "cell_type": "code",
   "execution_count": 90,
   "id": "acceptable-commerce",
   "metadata": {},
   "outputs": [],
   "source": [
    "class MaxIterations(Exception):\n",
    "    pass"
   ]
  },
  {
   "cell_type": "code",
   "execution_count": 91,
   "id": "animal-update",
   "metadata": {},
   "outputs": [],
   "source": [
    "def newton(f, df, po, epsilon, N=1000000):\n",
    "    \n",
    "    for i in range(N):\n",
    "        p = po - f(po)/df(po)\n",
    "        if abs(p - po)/abs(p) < epsilon:\n",
    "            return p, i+1\n",
    "        po = p\n",
    "    \n",
    "    raise MaxIterations(\"No se encontró el cero luego de\", N, \"iteraciones.\")"
   ]
  },
  {
   "cell_type": "markdown",
   "id": "individual-arena",
   "metadata": {},
   "source": [
    "Comparando:"
   ]
  },
  {
   "cell_type": "code",
   "execution_count": 92,
   "id": "sensitive-abuse",
   "metadata": {},
   "outputs": [
    {
     "name": "stdout",
     "output_type": "stream",
     "text": [
      "0.5\n",
      "0.75\n",
      "0.625\n",
      "0.6875\n",
      "0.71875\n",
      "0.703125\n",
      "0.7109375\n",
      "0.70703125\n",
      "0.705078125\n",
      "0.7041015625\n",
      "0.70361328125\n",
      "0.703369140625\n",
      "0.7032470703125\n",
      "0.70330810546875\n",
      "0.703277587890625\n",
      "0.7032928466796875\n",
      "Cero en 0.7032928466796875 encontrado después de 15 iteraciones.\n"
     ]
    },
    {
     "data": {
      "text/plain": [
       "0.7032928466796875"
      ]
     },
     "execution_count": 92,
     "metadata": {},
     "output_type": "execute_result"
    }
   ],
   "source": [
    "biseccion(func, 0, 1, 0.00001)"
   ]
  },
  {
   "cell_type": "code",
   "execution_count": 96,
   "id": "disabled-boundary",
   "metadata": {},
   "outputs": [
    {
     "data": {
      "text/plain": [
       "(0.7032907123575146, 3)"
      ]
     },
     "execution_count": 96,
     "metadata": {},
     "output_type": "execute_result"
    }
   ],
   "source": [
    "newton(func, df, 1, 0.001)"
   ]
  },
  {
   "cell_type": "markdown",
   "id": "nominated-settle",
   "metadata": {},
   "source": [
    "Al método de newton le tomó solo 3 iteraciones encontrar el 0."
   ]
  },
  {
   "cell_type": "code",
   "execution_count": null,
   "id": "vocational-republic",
   "metadata": {},
   "outputs": [],
   "source": []
  }
 ],
 "metadata": {
  "kernelspec": {
   "display_name": "Python 3",
   "language": "python",
   "name": "python3"
  },
  "language_info": {
   "codemirror_mode": {
    "name": "ipython",
    "version": 3
   },
   "file_extension": ".py",
   "mimetype": "text/x-python",
   "name": "python",
   "nbconvert_exporter": "python",
   "pygments_lexer": "ipython3",
   "version": "3.9.2"
  }
 },
 "nbformat": 4,
 "nbformat_minor": 5
}
